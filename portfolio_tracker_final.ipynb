{
 "cells": [
  {
   "cell_type": "markdown",
   "id": "32ff7ec4",
   "metadata": {},
   "source": [
    "# Portfolio Tracker\n",
    "\n",
    "This notebook helps track and analyze an investment portfolio."
   ]
  },
  {
   "cell_type": "code",
   "execution_count": null,
   "id": "c1772b25",
   "metadata": {},
   "outputs": [],
   "source": [
    "# Step 1: Import Libraries\n",
    "import pandas as pd\n",
    "import yfinance as yf\n",
    "import matplotlib.pyplot as plt\n",
    "import plotly.express as px"
   ]
  },
  {
   "cell_type": "code",
   "execution_count": null,
   "id": "30b734e0",
   "metadata": {},
   "outputs": [],
   "source": [
    "# Step 2: Load Portfolio Holdings CSV\n",
    "holdings = pd.read_csv('holdings.csv')\n",
    "display(holdings.head()) "
   ]
  },
  {
   "cell_type": "code",
   "execution_count": null,
   "id": "a0db360d",
   "metadata": {},
   "outputs": [],
   "source": [
    "# Step 3: Fetch Current Prices\n",
    "def fetch_current_prices(tickers):\n",
    "    # Download latest prices\n",
    "    data = yf.download(tickers, period='1d', progress=False)\n",
    "    return data['Close'].iloc[-1]\n",
    "\n",
    "tickers = holdings['Ticker'].tolist()\n",
    "current_prices = fetch_current_prices(tickers)\n",
    "holdings['Current Price'] = holdings['Ticker'].map(current_prices)\n",
    "holdings['Current Value'] = holdings['Shares'] * holdings['Current Price']\n",
    "\n",
    "display(holdings.head())"
   ]
  },
  {
   "cell_type": "code",
   "execution_count": null,
   "id": "04c4870f",
   "metadata": {},
   "outputs": [],
   "source": [
    "# Step 4: Portfolio Analysis\n",
    "portfolio_value = holdings['Current Value'].sum()\n",
    "\n",
    "holdings['Portfolio Weight'] = holdings['Current Value'] / portfolio_value\n",
    "holdings['Cost Basis'] = holdings['Shares'] * holdings['Purchase Price']\n",
    "holdings['Unrealized Gain'] = holdings['Current Value'] - holdings['Cost Basis']\n",
    "holdings['Total Return %'] = (holdings['Unrealized Gain'] / holdings['Cost Basis']) * 100\n",
    "display(holdings)"
   ]
  },
  {
   "cell_type": "code",
   "execution_count": null,
   "id": "6379f946",
   "metadata": {},
   "outputs": [],
   "source": [
    "# Step 5: Pie Chart of Portfolio Allocation\n",
    "fig = px.pie(holdings, values='Portfolio Weight', names='Ticker', title='Portfolio Allocation')\n",
    "fig.show()"
   ]
  },
  {
   "cell_type": "code",
   "execution_count": null,
   "id": "949f4768",
   "metadata": {},
   "outputs": [],
   "source": [
    "# Step 6: Benchmark Comparison (S&P 500)\n",
    "# Pull S&P 500 historical prices from the date of first purchase\n",
    "earliest_date = holdings['Purchase Date'].min()\n",
    "spy = yf.download('^GSPC', start=earliest_date, progress=False)['Close']\n",
    "\n",
    "# Calculate cumulative returns\n",
    "spy_returns = spy.pct_change().cumsum()\n",
    "\n",
    "# Basic Line Graph\n",
    "plt.figure(figsize=(10,6))\n",
    "spy_returns.plot(label='S&P 500')\n",
    "plt.title('Benchmark Comparison vs. S&P 500')\n",
    "plt.xlabel('Date')\n",
    "plt.ylabel('Cumulative Return')\n",
    "plt.legend()\n",
    "plt.show()"
   ]
  },
  {
   "cell_type": "code",
   "execution_count": null,
   "id": "b6057bb3",
   "metadata": {},
   "outputs": [],
   "source": []
  }
 ],
 "metadata": {
  "kernelspec": {
   "display_name": "Python 3",
   "language": "python",
   "name": "python3"
  },
  "language_info": {
   "codemirror_mode": {
    "name": "ipython",
    "version": 3
   },
   "file_extension": ".py",
   "mimetype": "text/x-python",
   "name": "python",
   "nbconvert_exporter": "python",
   "pygments_lexer": "ipython3",
   "version": "3.8.8"
  }
 },
 "nbformat": 4,
 "nbformat_minor": 5
}
